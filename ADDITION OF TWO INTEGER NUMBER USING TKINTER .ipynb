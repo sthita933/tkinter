{
 "cells": [
  {
   "cell_type": "code",
   "execution_count": 5,
   "metadata": {},
   "outputs": [],
   "source": [
    "import tkinter as tk\n",
    "top=tk.Tk()\n",
    "top.geometry('300x350')\n",
    "top.configure(bg='orange')\n",
    "\n",
    "def sum():\n",
    "    a=int(e1.get())\n",
    "    b=int(e2.get())\n",
    "    c=a+b\n",
    "    e3.insert(0,c)\n",
    "\n",
    "l1=tk.Label(top,text=\"ENTER 1ST NUMBER\")\n",
    "l1.place(x=80,y=50)\n",
    "\n",
    "e1=tk.Entry(top,bd=5)\n",
    "e1.place(x=80, y=90)\n",
    "\n",
    "l2=tk.Label(top,text=\"ENTER 2ND NUMBER\")\n",
    "l2.place(x=80,y=150)\n",
    "\n",
    "e2=tk.Entry(top,bd=5)\n",
    "e2.place(x=80, y=190)\n",
    "\n",
    "e3=tk.Entry(top,bd=5)\n",
    "e3.place(x=80, y=300)\n",
    "\n",
    "b1=tk.Button(top,text=\"sum is:\",bg='red',command=sum,bd=5)\n",
    "b1.place(x=80,y=250)\n",
    "top.mainloop()"
   ]
  },
  {
   "cell_type": "code",
   "execution_count": null,
   "metadata": {},
   "outputs": [],
   "source": []
  }
 ],
 "metadata": {
  "kernelspec": {
   "display_name": "Python 3",
   "language": "python",
   "name": "python3"
  },
  "language_info": {
   "codemirror_mode": {
    "name": "ipython",
    "version": 3
   },
   "file_extension": ".py",
   "mimetype": "text/x-python",
   "name": "python",
   "nbconvert_exporter": "python",
   "pygments_lexer": "ipython3",
   "version": "3.7.6"
  }
 },
 "nbformat": 4,
 "nbformat_minor": 4
}
