{
 "cells": [
  {
   "cell_type": "code",
   "execution_count": null,
   "metadata": {},
   "outputs": [],
   "source": [
    "from tkinter import *\n",
    "import tkinter as tk\n",
    "from tkinter import messagebox\n",
    "top=tk.Tk()\n",
    "\n",
    "l1=tk.Label(top,text=\"ENTER 1ST NO\",bg=\"yellow\")\n",
    "l1.place(x=90,y=50)\n",
    "e1=tk.Entry(top,bd=5)\n",
    "e1.place(x=90, y=90)    \n",
    "l2=tk.Label(top,text=\"ENTER 2ND NO\",bg=\"yellow\")\n",
    "l2.place(x=90,y=150)\n",
    "e2=tk.Entry(top,bd=5)\n",
    "e2.place(x=90, y=180)\n",
    "\n",
    "def sum():\n",
    "    a=eval(e1.get())\n",
    "    b=eval(e2.get())\n",
    "    c=a+b\n",
    "    messagebox.askquestion(c)\n",
    "    \n",
    "def sub():\n",
    "    a=eval(e1.get())\n",
    "    b=eval(e2.get())\n",
    "    c=a-b\n",
    "    messagebox.askquestion(c)\n",
    "    \n",
    "def mul():\n",
    "    a=eval(e1.get())\n",
    "    b=eval(e2.get())\n",
    "    c=a*b\n",
    "    messagebox.askquestion(c)\n",
    "    \n",
    "def div():\n",
    "    a=eval(e1.get())\n",
    "    b=eval(e2.get())\n",
    "    c=a/b\n",
    "    messagebox.askquestion(c)\n",
    "    \n",
    "b1=tk.Button(top,text=\"summation\",bg='yellow',command=sum)\n",
    "b1.place(x=80,y=320)\n",
    "\n",
    "b2=tk.Button(top,text=\"substraction\",bg='yellow',command=sub)\n",
    "b2.place(x=80,y=350)\n",
    "\n",
    "b3=tk.Button(top,text=\"multiplication\",bg='yellow',command=mul)\n",
    "b3.place(x=80,y=380)\n",
    "\n",
    "b4=tk.Button(top,text=\"division\",bg='yellow',command=div)\n",
    "b4.place(x=80,y=410)\n",
    "\n",
    "tk.mainloop()"
   ]
  }
 ],
 "metadata": {
  "kernelspec": {
   "display_name": "Python 3",
   "language": "python",
   "name": "python3"
  },
  "language_info": {
   "codemirror_mode": {
    "name": "ipython",
    "version": 3
   },
   "file_extension": ".py",
   "mimetype": "text/x-python",
   "name": "python",
   "nbconvert_exporter": "python",
   "pygments_lexer": "ipython3",
   "version": "3.7.6"
  }
 },
 "nbformat": 4,
 "nbformat_minor": 4
}
