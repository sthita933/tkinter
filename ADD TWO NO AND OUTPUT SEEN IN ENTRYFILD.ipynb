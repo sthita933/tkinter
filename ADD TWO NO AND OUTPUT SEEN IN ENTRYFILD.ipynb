{
 "cells": [
  {
   "cell_type": "code",
   "execution_count": 2,
   "metadata": {},
   "outputs": [],
   "source": [
    "import tkinter as tk\n",
    "top=tk.Tk()\n",
    "top.title('small project')\n",
    "top.geometry('400x500')\n",
    "top.configure(bg='red')\n",
    "    \n",
    "l1=tk.Label(top,text=\"ENTER 1ST NO\",bg=\"yellow\")\n",
    "l1.place(x=90,y=50)\n",
    "e1=tk.Entry(top,bd=5)\n",
    "e1.place(x=90, y=90)    \n",
    "l2=tk.Label(top,text=\"ENTER 2ND NO\",bg=\"yellow\")\n",
    "l2.place(x=90,y=150)\n",
    "e2=tk.Entry(top,bd=5)\n",
    "e2.place(x=90, y=180)\n",
    "\n",
    "def sum():\n",
    "    a=float(e1.get())\n",
    "    b=float(e2.get())\n",
    "    c=a+b\n",
    "    e3.insert(0,c)\n",
    "\n",
    "e3=tk.Entry(top,bd=5)\n",
    "e3.place(x=90, y=250)   \n",
    "\n",
    "b1=tk.Button(top,text=\"summation\",bg='yellow',command=sum)\n",
    "b1.place(x=80,y=320)\n",
    "top.mainloop()\n"
   ]
  },
  {
   "cell_type": "code",
   "execution_count": null,
   "metadata": {},
   "outputs": [],
   "source": []
  }
 ],
 "metadata": {
  "kernelspec": {
   "display_name": "Python 3",
   "language": "python",
   "name": "python3"
  },
  "language_info": {
   "codemirror_mode": {
    "name": "ipython",
    "version": 3
   },
   "file_extension": ".py",
   "mimetype": "text/x-python",
   "name": "python",
   "nbconvert_exporter": "python",
   "pygments_lexer": "ipython3",
   "version": "3.7.6"
  }
 },
 "nbformat": 4,
 "nbformat_minor": 4
}
